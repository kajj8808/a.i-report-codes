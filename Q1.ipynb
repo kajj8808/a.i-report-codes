{
 "cells": [
  {
   "cell_type": "code",
   "execution_count": 52,
   "metadata": {},
   "outputs": [
    {
     "name": "stdout",
     "output_type": "stream",
     "text": [
      "tf.Tensor(\n",
      "[ -2.4889655   -6.9510403   -6.7026367    6.221432    -2.5147579\n",
      "  -0.6760782    6.347802     1.1613573    1.4287446   -2.1836593\n",
      "   5.6475396    0.6145447    0.8028887    2.3141704   -2.2139995\n",
      "   7.6278358    7.839861    -5.281867   -10.865391    -4.7535586\n",
      "  12.049677     1.550298    -1.4500993   -2.2313383    3.335191\n",
      "   0.97013414   5.9182706   -2.1384048   -6.6397367   -6.284513\n",
      "  -0.19982521   1.2392424   -2.9502838   10.179612    -1.3700165\n",
      "  -9.814564     1.6361263    8.005719     4.925096     4.7040453\n",
      "  11.274383     4.7110233    7.8523207   -2.0176973   -1.9778509\n",
      "  -9.373723    -1.3724537    4.377432     4.4151487    3.196667\n",
      "  -4.0914683    4.66604     -4.095544     1.5607629    7.188212\n",
      "   0.49175167  -0.83501273   2.2044861    2.7752252   -3.6615982\n",
      "  -1.0513471   -2.1719375   -2.553081     0.68912816  -3.7724514\n",
      "   0.3160731   -3.6534564    4.342854     7.7616587    8.705961\n",
      "   3.7767887    9.208791     0.4525784    1.1348842  -16.26497\n",
      "   8.095998    12.166068     5.116395     2.816615     1.6952465\n",
      "  -6.2699423    4.8268356   -2.382009    -7.604579    -4.455294\n",
      "  -2.242025    -3.889208    -6.1454067   -3.936261    11.206528\n",
      "  -0.293955     0.2507458   -1.0131361   -6.503859    -6.1663547\n",
      "  -0.4294137   -5.3006816    5.7089906    5.3464727    4.028416  ], shape=(100,), dtype=float32) tf.Tensor(\n",
      "[-11.77828     -7.8442044   -1.1909332   10.447496    -5.393058\n",
      "  -5.383547     4.7205796   11.956283     8.089021    -3.9029717\n",
      "   6.530743    -1.9965665   -5.2644477   -3.0061846    7.5838175\n",
      "   6.675638    -4.7568026   -8.328259   -16.273521    -6.7370076\n",
      "  17.211605    -8.269254     3.0955844    3.0086443    3.1240432\n",
      "   5.8162737    7.441003     7.746565    -6.0529566   -8.894859\n",
      "  -6.763036     2.3869433    3.1301706    7.1161737    8.096427\n",
      " -23.475471    12.569918     5.145603    11.982447    -5.044284\n",
      "  21.081884    -0.4763255   10.623476    -3.6996312   -4.468035\n",
      "  -2.7474985    0.51421356   2.6425233   -6.4202633    2.8229947\n",
      "  -3.4469237    9.677829    -5.373894     5.7028584   14.932426\n",
      "  -7.050795    -2.674992     9.407086     2.3998346    2.0938082\n",
      "  -6.6499443   -3.8166184    3.007401     4.5648365   -5.8948593\n",
      "  -3.1028862    0.7448709    1.935215    -0.59405804   7.747512\n",
      "   8.267387    15.882416     2.4040432    2.6070125   -9.097308\n",
      "  11.553273    17.752758     9.079547    -8.443187    -0.16190112\n",
      "   4.6895895   -0.18019056  -6.6677337  -20.527725    -1.4215515\n",
      "  -5.055086    -8.643636    -5.7988405   -0.0811162   20.502514\n",
      "   3.3451116   -2.5157032   -7.3316784  -13.397492    -7.8070383\n",
      "  -1.1343358   -1.1495476    4.6707926   -1.7576957   15.070793  ], shape=(100,), dtype=float32)\n",
      "a Tensor(\"Mul:0\", shape=(100,), dtype=float32)\n"
     ]
    },
    {
     "name": "stderr",
     "output_type": "stream",
     "text": [
      "2022-10-06 17:27:43.400091: I tensorflow/core/grappler/optimizers/custom_graph_optimizer_registry.cc:113] Plugin optimizer for device_type GPU is enabled.\n",
      "2022-10-06 17:27:43.430495: I tensorflow/core/grappler/optimizers/custom_graph_optimizer_registry.cc:113] Plugin optimizer for device_type GPU is enabled.\n",
      "2022-10-06 17:27:43.503665: I tensorflow/core/grappler/optimizers/custom_graph_optimizer_registry.cc:113] Plugin optimizer for device_type GPU is enabled.\n"
     ]
    },
    {
     "name": "stdout",
     "output_type": "stream",
     "text": [
      "0 cost: 20389.85 a0: [-2.3444157] a1: [-2.3444157] a2: [-2.3444157] a3: [-2.3444157]\n",
      "50 cost: 12858.185 a0: [-1.8589327] a1: [-1.8589741] a2: [-1.8590076] a3: [-1.8590274]\n"
     ]
    },
    {
     "data": {
      "text/plain": [
       "[<matplotlib.lines.Line2D at 0x2b0bf7490>]"
      ]
     },
     "execution_count": 52,
     "metadata": {},
     "output_type": "execute_result"
    },
    {
     "data": {
      "image/png": "[encoded data removed]",
      "text/plain": [
       "<Figure size 640x480 with 1 Axes>"
      ]
     },
     "metadata": {},
     "output_type": "display_data"
    }
   ],
   "source": [
    "import tensorflow as tf\n",
    "import numpy as np\n",
    "import matplotlib.pyplot as plt\n",
    "\n",
    "# 2) 입력 데이터 생성하기\n",
    "# 입력값 X 정규분포 100개\n",
    "X = tf.constant(np.random.normal(0, 5, 100), dtype=tf.float32)\n",
    "# 노이즈 100 개\n",
    "noise = tf.constant(np.random.normal(0, 5, 100) , dtype=tf.float32)\n",
    "# 출력값 Y 100개\n",
    "Y = X + noise\n",
    "# 2) 입력데이터 프린트하기\n",
    "print(X , Y)\n",
    "\n",
    "# 3) 가중치 파라미터\n",
    "a0 = tf.Variable(tf.random.normal([1], -1.0, 1.0))\n",
    "a1 = tf.Variable(tf.random.normal([1], -1.0, 1.0))\n",
    "a2 = tf.Variable(tf.random.normal([1], -1.0, 1.0))\n",
    "a3 = tf.Variable(tf.random.normal([1], -1.0, 1.0))\n",
    "\n",
    "\"\"\"\n",
    "a0 = tf.Variable(tf.random.uniform([1], -1.0, 1.0))\n",
    "a1 = tf.Variable(tf.random.uniform([1], -1.0, 1.0))\n",
    "a2 = tf.Variable(tf.random.uniform([1], -1.0, 1.0))\n",
    "a3 = tf.Variable(tf.random.uniform([1], -1.0, 1.0))\n",
    "\"\"\"\n",
    "\n",
    "optimizer = tf.optimizers.Adam(0.01)\n",
    "\n",
    "# 1) 회귀 함수 정의하기\n",
    "@tf.function\n",
    "def cost_eval():\n",
    "    print(\"a\"  ,tf.multiply( a1 ,new_X) )\n",
    "    hypothesis = a0 + a1*new_X + (a2*(new_X**2)) + (a3*(new_X**3))\n",
    "    cost = tf.reduce_mean(tf.square(hypothesis - Y))\n",
    "    return cost\n",
    "\n",
    "for epoch in range(100):\n",
    "    optimizer.minimize(cost_eval, var_list=[a0, a1, a2, a3])\n",
    "    if epoch % 50 == 0:\n",
    "        print(epoch, \"cost:\", cost_eval().numpy(), \"a0:\", a0.numpy(),\n",
    "              \"a1:\", a1.numpy(), \"a2:\", a2.numpy(), \"a3:\", a3.numpy())\n",
    "    if(cost_eval().numpy() < 0.15):\n",
    "        break\n",
    "    \n",
    "# 5 그래프를 그리기위해 새로운 입력값 X를 정의)\n",
    "new_X = tf.range(0, 5, 0.05)\n",
    "new_Y = a0 + a1*new_X + (a2*(new_X**2)) + (a3*(new_X**3))\n",
    "plt.plot(X , Y , 'ro' , label='Sample Data')\n",
    "#plt.plot(new_X , new_Y , label='Fitted Line')\n"
   ]
  }
 ],
 "metadata": {
  "kernelspec": {
   "display_name": "Python 3.9",
   "language": "python",
   "name": "tensorflow"
  },
  "language_info": {
   "codemirror_mode": {
    "name": "ipython",
    "version": 3
   },
   "file_extension": ".py",
   "mimetype": "text/x-python",
   "name": "python",
   "nbconvert_exporter": "python",
   "pygments_lexer": "ipython3",
   "version": "3.9.13"
  },
  "orig_nbformat": 4
 },
 "nbformat": 4,
 "nbformat_minor": 2
}
